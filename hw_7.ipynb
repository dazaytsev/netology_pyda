{
 "cells": [
  {
   "cell_type": "code",
   "execution_count": 17,
   "metadata": {},
   "outputs": [],
   "source": [
    "import datetime"
   ]
  },
  {
   "cell_type": "code",
   "execution_count": 20,
   "metadata": {},
   "outputs": [],
   "source": [
    "from datetime import timedelta"
   ]
  },
  {
   "cell_type": "markdown",
   "metadata": {},
   "source": [
    "## Задание 1:\n",
    "Напишите функцию date_range, которая возвращает список дней между датами start_date и end_date. Даты должны вводиться в формате YYYY-MM-DD\n",
    "\n",
    "## Задание 2:\n",
    "Дополните функцию из первого задания проверкой на корректность дат. В случае неверного формата или если start_date > end_date должен возвращаться пустой список."
   ]
  },
  {
   "cell_type": "code",
   "execution_count": 28,
   "metadata": {},
   "outputs": [],
   "source": [
    "def _inp_val(el_nm):\n",
    "    dt = input('Введите значение переменной ' + el_nm + ' (формат YYYY-MM-DD) ')\n",
    "    return dt\n",
    "\n",
    "def _check_frmt(dt):\n",
    "    try:\n",
    "        dt = datetime.strptime(dt, '%Y-%m-%d')\n",
    "    except:\n",
    "        dt = datetime.strptime('1900-01-01', '%Y-%m-%d')\n",
    "    return dt\n",
    "\n",
    "def _date_range(st_dt, end_dt):\n",
    "    a = []\n",
    "    if st_dt.year == 1900 or end_dt.year == 1900:\n",
    "        return a\n",
    "    else:\n",
    "        while st_dt < (end_dt - timedelta(days=1)):\n",
    "            st_dt += timedelta(days=1)\n",
    "            a.append(st_dt)    \n",
    "        return a"
   ]
  },
  {
   "cell_type": "code",
   "execution_count": 43,
   "metadata": {},
   "outputs": [
    {
     "name": "stdout",
     "output_type": "stream",
     "text": [
      "Введите значение переменной start_date (формат YYYY-MM-DD) 2019-01-01\n",
      "Введите значение переменной end_date (формат YYYY-MM-DD) 2019-01-05\n"
     ]
    },
    {
     "data": {
      "text/plain": [
       "[datetime.datetime(2019, 1, 2, 0, 0),\n",
       " datetime.datetime(2019, 1, 3, 0, 0),\n",
       " datetime.datetime(2019, 1, 4, 0, 0)]"
      ]
     },
     "execution_count": 43,
     "metadata": {},
     "output_type": "execute_result"
    }
   ],
   "source": [
    "#инициализация и валидация переменной start_date \n",
    "dt_st = _inp_val('start_date')\n",
    "dt_st = _check_frmt(dt_st)\n",
    "#инициализация и валидация переменной end_date\n",
    "dt_end = _inp_val('end_date')\n",
    "dt_end = _check_frmt(dt_end)\n",
    "#функция формирования списка дат  \n",
    "b = _date_range(dt_st, dt_end)\n",
    "b"
   ]
  },
  {
   "cell_type": "markdown",
   "metadata": {},
   "source": [
    "## Задание 3:\n",
    "Дан поток дат в формате YYYY-MM-DD, в которых встречаются некорректные значения:\n",
    "Напишите функцию, которая проверяет эти даты на корректность. Т. е. для каждой даты возвращает True (дата корректна) или False (некорректная дата)."
   ]
  },
  {
   "cell_type": "code",
   "execution_count": 33,
   "metadata": {},
   "outputs": [],
   "source": [
    "def _check_frmt_v2(dt):\n",
    "    try:\n",
    "        dt = datetime.strptime(dt, '%Y-%m-%d')\n",
    "        return True\n",
    "    except:\n",
    "        return False"
   ]
  },
  {
   "cell_type": "code",
   "execution_count": 34,
   "metadata": {},
   "outputs": [
    {
     "name": "stdout",
     "output_type": "stream",
     "text": [
      "True\n",
      "False\n",
      "False\n"
     ]
    }
   ],
   "source": [
    "stream = ['2018-04-02', '2018-02-29', '2018-19-02']\n",
    "for s in stream:\n",
    "    print(_check_frmt_v2(s))"
   ]
  }
 ],
 "metadata": {
  "kernelspec": {
   "display_name": "Python 3",
   "language": "python",
   "name": "python3"
  },
  "language_info": {
   "codemirror_mode": {
    "name": "ipython",
    "version": 3
   },
   "file_extension": ".py",
   "mimetype": "text/x-python",
   "name": "python",
   "nbconvert_exporter": "python",
   "pygments_lexer": "ipython3",
   "version": "3.7.3"
  }
 },
 "nbformat": 4,
 "nbformat_minor": 2
}
