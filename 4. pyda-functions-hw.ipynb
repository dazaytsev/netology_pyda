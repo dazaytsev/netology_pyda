{
 "cells": [
  {
   "cell_type": "markdown",
   "metadata": {},
   "source": [
    "# Задание к лекции \"Функции\".\n",
    "Для зачета необходимо правильно выполнить 4 заданий из 6.  \n",
    "\n",
    "Для зачета с отличием – все 6."
   ]
  },
  {
   "cell_type": "markdown",
   "metadata": {},
   "source": [
    "## Задание 1"
   ]
  },
  {
   "cell_type": "markdown",
   "metadata": {},
   "source": [
    "Дан список вида:"
   ]
  },
  {
   "cell_type": "code",
   "execution_count": 71,
   "metadata": {},
   "outputs": [],
   "source": [
    "def _getsum(m):\n",
    "    vl_sum = 0\n",
    "    for x in range(0, len(m)):\n",
    "        vl_sum += m[x][x]\n",
    "    return vl_sum"
   ]
  },
  {
   "cell_type": "code",
   "execution_count": 72,
   "metadata": {},
   "outputs": [
    {
     "name": "stdout",
     "output_type": "stream",
     "text": [
      "103\n"
     ]
    }
   ],
   "source": [
    "data = [[13, 25, 23, 34],\n",
    "        [45, 32, 44, 47],\n",
    "        [12, 33, 23, 95],\n",
    "        [13, 53, 34, 35],]\n",
    "\n",
    "print(_getsum(data))"
   ]
  },
  {
   "cell_type": "markdown",
   "metadata": {},
   "source": [
    "Напишите функцию, которая возвращает сумму элементов на диагонали. Т. е. 13+32+23+35.  \n",
    "Список может быть любой длины, но всегда является \"квадратным\" (количество элементов во вложенных списках равно их количеству)."
   ]
  },
  {
   "cell_type": "markdown",
   "metadata": {},
   "source": [
    "## Задание 2"
   ]
  },
  {
   "cell_type": "markdown",
   "metadata": {},
   "source": [
    "Напишите функцию, возвращающую сумму первых n чисел Фибоначчи (для этого вам может понадобится ознакомиться с рекурсией)."
   ]
  },
  {
   "cell_type": "code",
   "execution_count": 65,
   "metadata": {},
   "outputs": [],
   "source": [
    "def _fibosum(n):\n",
    "    f_num = [0 ,1]\n",
    "    v_tmp, v_1, v_2 = 0, 0, 1\n",
    "\n",
    "    if n < 3:\n",
    "        print('Числа Фибоначчи: ', f_num)\n",
    "        return sum(f_num[:n])\n",
    "    if n > 2:\n",
    "        for a in range(3, n+1):\n",
    "            v_tmp = v_2     #промежуточная переменная\n",
    "            v_2 = v_1 + v_2 #значение следующего числа в ряду\n",
    "            v_1 = v_tmp     #значение предыдущего числа в ряду\n",
    "            f_num.append(v_2)\n",
    "        print('Числа Фибоначчи: ', f_num)\n",
    "        return sum(f_num[:n])"
   ]
  },
  {
   "cell_type": "code",
   "execution_count": 70,
   "metadata": {},
   "outputs": [
    {
     "name": "stdout",
     "output_type": "stream",
     "text": [
      "Введите количество первых n чисел Фибоначчи: 5\n",
      "Числа Фибоначчи:  [0, 1, 1, 2, 3]\n",
      "Сумма чисел = 7\n"
     ]
    }
   ],
   "source": [
    "n = int(input('Введите количество первых n чисел Фибоначчи: '))\n",
    "print('Сумма чисел =',_fibosum(n))"
   ]
  },
  {
   "cell_type": "markdown",
   "metadata": {},
   "source": [
    "## Задание 3"
   ]
  },
  {
   "cell_type": "code",
   "execution_count": 73,
   "metadata": {},
   "outputs": [],
   "source": [
    "cook_book = {\n",
    "  'салат': [\n",
    "     {'ingridient_name': 'сыр', 'quantity': 50, 'measure': 'гр'},\n",
    "     {'ingridient_name': 'томаты', 'quantity': 20, 'measure': 'гр'},\n",
    "     {'ingridient_name': 'огурцы', 'quantity': 20, 'measure': 'гр'},\n",
    "     {'ingridient_name': 'маслины', 'quantity': 10, 'measure': 'гр'},\n",
    "     {'ingridient_name': 'оливковое масло', 'quantity': 20, 'measure': 'мл'},\n",
    "     {'ingridient_name': 'салат', 'quantity': 10, 'measure': 'гр'},\n",
    "     {'ingridient_name': 'перец', 'quantity': 20, 'measure': 'гр'}\n",
    "    ],\n",
    "  'пицца': [\n",
    "     {'ingridient_name': 'сыр', 'quantity': 20, 'measure': 'гр'},\n",
    "     {'ingridient_name': 'колбаса', 'quantity': 30, 'measure': 'гр'},\n",
    "     {'ingridient_name': 'бекон', 'quantity': 30, 'measure': 'гр'},\n",
    "     {'ingridient_name': 'оливки', 'quantity': 10, 'measure': 'гр'},\n",
    "     {'ingridient_name': 'томаты', 'quantity': 20, 'measure': 'гр'},\n",
    "     {'ingridient_name': 'тесто', 'quantity': 100, 'measure': 'гр'},   \n",
    "    ],\n",
    "  'лимонад': [\n",
    "     {'ingridient_name': 'лимон', 'quantity': 1, 'measure': 'шт'},\n",
    "     {'ingridient_name': 'вода', 'quantity': 200, 'measure': 'мл'},\n",
    "     {'ingridient_name': 'сахар', 'quantity': 10, 'measure': 'гр'},\n",
    "     {'ingridient_name': 'лайм', 'quantity': 20, 'measure': 'гр'},    \n",
    "    ]\n",
    "}"
   ]
  },
  {
   "cell_type": "code",
   "execution_count": 135,
   "metadata": {},
   "outputs": [
    {
     "name": "stdout",
     "output_type": "stream",
     "text": [
      "Введите блюда через пробел: пицца\n",
      "20 гр\n",
      "30 гр\n",
      "30 гр\n",
      "10 гр\n",
      "20 гр\n",
      "100 гр\n"
     ]
    }
   ],
   "source": [
    "order_vl = input('Введите блюда через пробел: ')\n",
    "a = order_vl.split(' ')\n",
    "b = {}\n",
    "f = {}\n",
    "\n",
    "#уникальные блюда и их количество в заказе\n",
    "for x in a:\n",
    "    if x in b.keys():\n",
    "        b[x] += 1\n",
    "    else:\n",
    "        b.setdefault(x, 1)\n",
    "\n",
    "for k, v in b.items():\n",
    "    for c in cook_book[k]:\n",
    "        try:\n",
    "            f[c['ingridient_namen']] += c['quantity'] * v\n",
    "            #print(f[c['ingridient_name']])\n",
    "        except:\n",
    "            f.setdefault(c['ingridient_name'], c['quantity'] * v)\n",
    "        print(f[c['ingridient_name']], c['measure'])\n",
    "\n",
    "#print(f)"
   ]
  },
  {
   "cell_type": "markdown",
   "metadata": {},
   "source": [
    "Напишите программу (она может состоять из нескольких функций), которая будет запрашивать у пользователя количество гостей и список блюд, которые будут подаваться каждому гостю. В результате программа должна выдавать список покупок, состоящий из ингредиентов, которые нужно купить в магазине (если ингредиенты повторяются, то их нужно записать одной строкой, а не отдельно).\n",
    "\n",
    "Пример:\n",
    "\n",
    "вызов\\_главной\\_функций()\n",
    "\n",
    "Введите количество гостей: 3  \n",
    "Введите блюда через пробел: пицца пицца лимонад\n",
    "\n",
    "Список покупок:  \n",
    "сыр 120 гр  \n",
    "колбаса 180 гр  \n",
    "бекон 180 гр  \n",
    "оливки 60 гр  \n",
    "томаты 120 гр  \n",
    "тесто 600 гр  \n",
    "лимон 3 шт  \n",
    "вода 600 мл  \n",
    "сахар 30 гр  \n",
    "лайм 60 гр  "
   ]
  },
  {
   "cell_type": "markdown",
   "metadata": {},
   "source": [
    "## Задание 4"
   ]
  },
  {
   "cell_type": "markdown",
   "metadata": {},
   "source": [
    "Вы работаете секретарем и вам постоянно приходят различные документы. Вы должны быть очень внимательны, чтобы не потерять ни один документ. Каталог документов хранится в следующем виде:"
   ]
  },
  {
   "cell_type": "code",
   "execution_count": 4,
   "metadata": {},
   "outputs": [],
   "source": [
    "documents = [\n",
    "    {'type': 'passport', 'number': '2207 876234', 'name': 'Василий Гупкин'},\n",
    "    {'type': 'invoice', 'number': '11-2', 'name': 'Геннадий Покемонов'},\n",
    "    {'type': 'insurance', 'number': '10006', 'name': 'Аристарх Павлов'}\n",
    "]"
   ]
  },
  {
   "cell_type": "markdown",
   "metadata": {},
   "source": [
    "Перечень полок, на которых находятся документы хранится в следующем виде:"
   ]
  },
  {
   "cell_type": "code",
   "execution_count": 5,
   "metadata": {},
   "outputs": [],
   "source": [
    "directories = {\n",
    "    '1': ['2207 876234', '11-2', '5455 028765'],\n",
    "    '2': ['10006', '5400 028765', '5455 002299'],\n",
    "    '3': []\n",
    "}"
   ]
  },
  {
   "cell_type": "markdown",
   "metadata": {},
   "source": [
    "Необходимо реализовать пользовательские команды (внимание! это не название функций, которые должны быть выразительными, а команды, которые вводит пользователь, чтобы получить необходимый результат):\n",
    "  \n",
    "- p – people – команда, которая спросит номер документа и выведет имя человека, которому он принадлежит;  \n",
    "- s – shelf – команда, которая спросит номер документа и выведет номер полки, на которой он находится  \n",
    "Правильно обработайте ситуацию, когда пользователь будет вводить несуществующий документ."
   ]
  },
  {
   "cell_type": "markdown",
   "metadata": {},
   "source": [
    "## Задание 5"
   ]
  },
  {
   "cell_type": "markdown",
   "metadata": {},
   "source": [
    "К условию из задания 5 реализуйте следующие команды:\n",
    "  \n",
    "- l – list – команда, которая выведет список всех документов в формате   \n",
    "**passport \"2207 876234\" \"Василий Гупкин\"**  \n",
    "- as – add shelf – команда, которая спросит номер новой полки и добавит ее в перечень"
   ]
  },
  {
   "cell_type": "markdown",
   "metadata": {},
   "source": [
    "## Задание 6"
   ]
  },
  {
   "cell_type": "markdown",
   "metadata": {},
   "source": [
    "К условию из задания 5 реализуйте следующие команды:  \n",
    "  \n",
    "- d – delete – команда, которая спросит номер документа и удалит его из каталога и из перечня полок. Предусмотрите сценарий, когда пользователь вводит несуществующий документ;  \n",
    "- m – move – команда, которая спросит номер документа и целевую полку и переместит его с текущей полки на целевую. Корректно обработайте кейсы, когда пользователь пытается переместить несуществующий документ или переместить документ на несуществующую полку;  \n",
    "- a – add – команда, которая добавит новый документ в каталог и в перечень полок, спросив его номер, тип, имя владельца и номер полки, на котором он будет храниться."
   ]
  },
  {
   "cell_type": "code",
   "execution_count": null,
   "metadata": {},
   "outputs": [],
   "source": []
  }
 ],
 "metadata": {
  "kernelspec": {
   "display_name": "Python 3",
   "language": "python",
   "name": "python3"
  },
  "language_info": {
   "codemirror_mode": {
    "name": "ipython",
    "version": 3
   },
   "file_extension": ".py",
   "mimetype": "text/x-python",
   "name": "python",
   "nbconvert_exporter": "python",
   "pygments_lexer": "ipython3",
   "version": "3.7.3"
  }
 },
 "nbformat": 4,
 "nbformat_minor": 2
}
