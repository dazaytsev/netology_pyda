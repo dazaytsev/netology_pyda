{
 "cells": [
  {
   "cell_type": "markdown",
   "metadata": {},
   "source": [
    "# Домашнее задание\n",
    "1. Переведите содержимое файла purchase_log.txt в словарь purchases вида:\n",
    "```python\n",
    "{'1840e0b9d4': 'Продукты', ...}\n",
    "```\n",
    "\n",
    "2. Для каждого user_id в файле visit_log.csv добавьте третий столбец с категорией покупки (если покупка была).\n",
    "\n",
    "3. Запишите в файл funnel.csv визиты из файла visit_log.csv, в которых были покупки с указанием категории.\n",
    "\n",
    "Учтите условия на данные:\n",
    "- содержимое purchase_log.txt помещается в оперативную память компьютера\n",
    "- содержимое visit_log.csv - нет; используйте только построчную обработку этого файла"
   ]
  },
  {
   "cell_type": "code",
   "execution_count": 36,
   "metadata": {},
   "outputs": [],
   "source": [
    "def _create_funnel():\n",
    "    import json\n",
    "    \n",
    "    #1. переводим purchase_log.txt в справочник вида user_id: category\n",
    "    purch_dict = {}\n",
    "    with open('purchase_log.txt', encoding=\"utf-8\") as f:\n",
    "        for line in f:\n",
    "            line = line.strip()\n",
    "            dict_ = json.loads(line)\n",
    "            if dict_['user_id'] == 'user_id':\n",
    "                next\n",
    "            else:\n",
    "                purch_dict.setdefault(dict_['user_id'], dict_['category'])\n",
    "    f.close()\n",
    "\n",
    "    #2. добавление в csv файл столбца с категорией покупок\n",
    "    with open('visit_log.csv', 'r') as f, open('visit_log_out.csv', 'w', encoding=\"utf-8\") as w:\n",
    "        for line in f:\n",
    "            line = line.strip().split(',')\n",
    "            #header\n",
    "            if line[0] == 'user_id':\n",
    "                w.write(line[0] + ',' + line[1] + ',category\\n')\n",
    "            #data\n",
    "            else:\n",
    "                try:\n",
    "                    w.write(line[0] + ',' + line[1] + ',' + purch_dict[line[0]] + '\\n')\n",
    "                except:\n",
    "                    w.write(line[0] + ',' + line[1] + ',' + '' + '\\n')\n",
    "    f.close()\n",
    "    w.close()\n",
    "\n",
    "    #3. формируем итоговый файл, содержащий только записи с покупками\n",
    "    with open('visit_log_out.csv', 'r', encoding=\"utf-8\") as f, open('funnel.csv', 'w', encoding=\"utf-8\") as w:\n",
    "        for line in f:\n",
    "            line = line.strip().split(',')\n",
    "            if line[2] != '':\n",
    "                w.write(line[0] + ',' + line[1] + ',' + line[2] + '\\n')\n",
    "    f.close()\n",
    "    w.close()"
   ]
  },
  {
   "cell_type": "code",
   "execution_count": 42,
   "metadata": {},
   "outputs": [],
   "source": [
    "def _view_file(f_nm, rownum = 5):\n",
    "    i = 0\n",
    "    with open(f_nm, encoding=\"utf-8\") as f:\n",
    "        for line in f:\n",
    "            print(line.strip())\n",
    "            i += 1\n",
    "            if i == rownum:\n",
    "                break"
   ]
  },
  {
   "cell_type": "code",
   "execution_count": 43,
   "metadata": {},
   "outputs": [
    {
     "name": "stdout",
     "output_type": "stream",
     "text": [
      "user_id,source,category\n",
      "1840e0b9d4,other,Продукты\n",
      "4e4f90fcfb,context,Электроника\n",
      "afea8d72fc,other,Электроника\n",
      "2824221f38,email,Продукты\n"
     ]
    }
   ],
   "source": [
    "#создаем файл\n",
    "_create_funnel()\n",
    "#проверяем первые строки файла\n",
    "_view_file('funnel.csv')"
   ]
  }
 ],
 "metadata": {
  "kernelspec": {
   "display_name": "Python 3",
   "language": "python",
   "name": "python3"
  },
  "language_info": {
   "codemirror_mode": {
    "name": "ipython",
    "version": 3
   },
   "file_extension": ".py",
   "mimetype": "text/x-python",
   "name": "python",
   "nbconvert_exporter": "python",
   "pygments_lexer": "ipython3",
   "version": "3.7.3"
  }
 },
 "nbformat": 4,
 "nbformat_minor": 2
}
