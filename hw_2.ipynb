{
 "cells": [
  {
   "cell_type": "markdown",
   "metadata": {},
   "source": [
    "Задание 1\n",
    "Дан список с визитами по городам и странам. Напишите код, который возвращает отфильтрованный список geo_logs, содержащий только визиты из России. Считайте, что список geo_logs легко помещается в оперативной памяти."
   ]
  },
  {
   "cell_type": "code",
   "execution_count": 3,
   "metadata": {},
   "outputs": [
    {
     "data": {
      "text/plain": [
       "[['visit1', ['Москва', 'Россия']],\n",
       " ['visit3', ['Владимир', 'Россия']],\n",
       " ['visit7', ['Тула', 'Россия']],\n",
       " ['visit8', ['Тула', 'Россия']],\n",
       " ['visit9', ['Курск', 'Россия']],\n",
       " ['visit10', ['Архангельск', 'Россия']]]"
      ]
     },
     "execution_count": 3,
     "metadata": {},
     "output_type": "execute_result"
    }
   ],
   "source": [
    "geo_logs = [['visit1', ['Москва', 'Россия']],\n",
    "            ['visit2', ['Дели', 'Индия']],\n",
    "            ['visit3', ['Владимир', 'Россия']],\n",
    "            ['visit4', ['Лиссабон', 'Португалия']],\n",
    "            ['visit5', ['Париж', 'Франция']],\n",
    "            ['visit6', ['Лиссабон', 'Португалия']],\n",
    "            ['visit7', ['Тула', 'Россия']],\n",
    "            ['visit8', ['Тула', 'Россия']],\n",
    "            ['visit9', ['Курск', 'Россия']],\n",
    "            ['visit10', ['Архангельск', 'Россия']],]\n",
    "\n",
    "[x for x in geo_logs if x[1][1] == 'Россия']"
   ]
  },
  {
   "cell_type": "markdown",
   "metadata": {},
   "source": [
    "Задание 2\n",
    "Выведите на экран все уникальные гео-ID из списка координат ids. Т. е. список вида [213, 15, 54, 119, 98, 35]"
   ]
  },
  {
   "cell_type": "code",
   "execution_count": 117,
   "metadata": {},
   "outputs": [
    {
     "name": "stdout",
     "output_type": "stream",
     "text": [
      "[213, 15, 54, 119, 98, 35]\n"
     ]
    }
   ],
   "source": [
    "ids = [['user1', [213, 213, 213, 15, 213]], ['user2', [54, 54, 119, 119, 119]], ['user3', [213, 98, 98, 35]]]\n",
    "geo_data = [] #запишем все координаты\n",
    "geo_fin = [] #запишем уникальные координаты в исходном порядке\n",
    "\n",
    "for i in ids:\n",
    "    geo_data.extend(i[1])\n",
    "    \n",
    "for i in geo_data:\n",
    "    if i not in geo_fin:\n",
    "        geo_fin.extend([i])\n",
    "    \n",
    "print(geo_fin)"
   ]
  },
  {
   "cell_type": "markdown",
   "metadata": {},
   "source": [
    "Список поисковых запросов. Получить распределение количества слов в них. Т. е. поисковых запросов из одного слова 5%, из двух - 7%, из трех - 3% итд."
   ]
  },
  {
   "cell_type": "code",
   "execution_count": 136,
   "metadata": {},
   "outputs": [
    {
     "name": "stdout",
     "output_type": "stream",
     "text": [
      "Поисковых запросов из 1 слова - 0.0%\n",
      "Поисковых запросов из 2 слов - 42.86%\n",
      "Поисковых запросов из 3 слов - 57.14%\n"
     ]
    }
   ],
   "source": [
    "queries = ['смотреть сериалы онлайн',\n",
    "           'новости спорта',\n",
    "           'афиша кино',\n",
    "           'курс доллара',\n",
    "           'сериалы этим летом',\n",
    "           'курс по питону',\n",
    "           'сериалы про спорт', ]#'1', '1 2 3 4', '1 2 3 4 5 6 7 8 9 10']\n",
    "\n",
    "query_count = len(queries) #общее количество запросов\n",
    "query_words = [] #запишем количество слов в каждом запросе\n",
    "words_max = 0 #для поиска максимального количества слов в запросе\n",
    "result = \"Поисковых запросов из {} {} - {}%\"\n",
    "\n",
    "for q in queries:\n",
    "    query_words.extend([len(q.split(' '))]) #преобразуем строку в список -> len = количество элементов, т.е. слов\n",
    "    if words_max < len(q.split(' ')):\n",
    "        words_max = len(q.split(' '))\n",
    "    \n",
    "for x in range(1, words_max + 1):\n",
    "    if x == 1:\n",
    "        print(result.format(x, 'слова', round(query_words.count(x) / query_count * 100, 2)))\n",
    "    else:\n",
    "        print(result.format(x, 'слов', round(query_words.count(x) / query_count * 100, 2)))"
   ]
  },
  {
   "cell_type": "markdown",
   "metadata": {},
   "source": [
    "Задание 4 (бонусное)\n",
    "Дан поток логов по количеству просмотренных страниц для каждого пользователя. Список отсортирован по ID пользователя. Вам необходимо написать алгоритм, который считает среднее значение просмотров на пользователя. Т. е. надо посчитать отношение суммы всех просмотров к количеству уникальных пользователей. Учтите, что весь список stream не помещается в оперативную память, т. е. его нужно обрабатывать поэлементно в цикле."
   ]
  },
  {
   "cell_type": "code",
   "execution_count": 137,
   "metadata": {},
   "outputs": [
    {
     "name": "stdout",
     "output_type": "stream",
     "text": [
      "Уникальных пользователей: 4\n",
      "Общее число просмотров: 93\n",
      "Среднее количество просмотров на одного уникального пользователя: 23.25\n"
     ]
    }
   ],
   "source": [
    "stream = ['2018-01-01,user1,3',\n",
    "          '2018-01-07,user1,4',\n",
    "          '2018-03-29,user1,1',\n",
    "          '2018-04-04,user1,13',\n",
    "          '2018-01-05,user2,7',\n",
    "          '2018-06-14,user3,4',\n",
    "          '2018-07-02,user3,10',\n",
    "          '2018-03-21,user4,19',\n",
    "          '2018-03-22,user4,4',\n",
    "          '2018-04-22,user4,8',\n",
    "          '2018-05-03,user4,9',\n",
    "          '2018-05-11,user4,11',]\n",
    "  \n",
    "curr_usr_nm #в переменную будем записывать имя пользователя для проверки на уникальность, т.к. список отсортирован\n",
    "usr_cnt = 0\n",
    "visit_sum = 0\n",
    "result_1 = 'Уникальных пользователей: {}'\n",
    "result_2 = 'Общее число просмотров: {}'\n",
    "result_3 = 'Среднее количество просмотров на одного уникального пользователя: {}'\n",
    "\n",
    "for x in stream:\n",
    "    dt, usr_nm, visit_cnt = x.split(',') # преобразование строки в список\n",
    "    \n",
    "    if usr_nm != curr_usr_nm: \n",
    "        usr_cnt += 1\n",
    "        curr_usr_nm = usr_nm\n",
    "        \n",
    "    visit_sum += int(visit_cnt)\n",
    "    \n",
    "print(result_1.format(usr_cnt))\n",
    "print(result_2.format(visit_sum))\n",
    "print(result_3.format(visit_sum / usr_cnt))"
   ]
  }
 ],
 "metadata": {
  "kernelspec": {
   "display_name": "Python 3",
   "language": "python",
   "name": "python3"
  },
  "language_info": {
   "codemirror_mode": {
    "name": "ipython",
    "version": 3
   },
   "file_extension": ".py",
   "mimetype": "text/x-python",
   "name": "python",
   "nbconvert_exporter": "python",
   "pygments_lexer": "ipython3",
   "version": "3.7.3"
  }
 },
 "nbformat": 4,
 "nbformat_minor": 2
}
