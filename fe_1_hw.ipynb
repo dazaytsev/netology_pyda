{
 "cells": [
  {
   "cell_type": "code",
   "execution_count": 10,
   "metadata": {},
   "outputs": [],
   "source": [
    "import numpy as np\n",
    "import pandas as pd\n",
    "from sklearn.linear_model import LinearRegression\n",
    "from sklearn.metrics import mean_absolute_error"
   ]
  },
  {
   "cell_type": "markdown",
   "metadata": {},
   "source": [
    "## Формируем датасет с параметрами:\n",
    "- proj_cnt: количество проектов\n",
    "- education_lvl: уровень образования\n",
    "- employee_grade: грейд сотрудника\n",
    "- employee_age: возраст сотрудника\n",
    "- employee_salary: оклад сотрудника. Целевая переменная для предсказания"
   ]
  },
  {
   "cell_type": "code",
   "execution_count": 36,
   "metadata": {},
   "outputs": [],
   "source": [
    "def _get_test_sample():\n",
    "    n_samples = 100\n",
    "\n",
    "    proj_cnt = np.random.choice(9, n_samples) + 1\n",
    "    education_lvl = np.random.choice(2, n_samples) + 1\n",
    "    employee_grade = np.random.choice(10, n_samples) + 1\n",
    "    employee_age = np.random.choice(30, n_samples) + 18\n",
    "\n",
    "    employee_salary = education_lvl * proj_cnt * employee_grade * 1000\n",
    "\n",
    "    data = pd.DataFrame({'proj_cnt': proj_cnt, 'education_lvl': education_lvl, 'employee_grade': employee_grade, 'employee_age': employee_age, 'employee_salary': employee_salary})\n",
    "    return data"
   ]
  },
  {
   "cell_type": "code",
   "execution_count": 37,
   "metadata": {},
   "outputs": [
    {
     "data": {
      "text/html": [
       "<div>\n",
       "<style scoped>\n",
       "    .dataframe tbody tr th:only-of-type {\n",
       "        vertical-align: middle;\n",
       "    }\n",
       "\n",
       "    .dataframe tbody tr th {\n",
       "        vertical-align: top;\n",
       "    }\n",
       "\n",
       "    .dataframe thead th {\n",
       "        text-align: right;\n",
       "    }\n",
       "</style>\n",
       "<table border=\"1\" class=\"dataframe\">\n",
       "  <thead>\n",
       "    <tr style=\"text-align: right;\">\n",
       "      <th></th>\n",
       "      <th>proj_cnt</th>\n",
       "      <th>education_lvl</th>\n",
       "      <th>employee_grade</th>\n",
       "      <th>employee_age</th>\n",
       "      <th>employee_salary</th>\n",
       "    </tr>\n",
       "  </thead>\n",
       "  <tbody>\n",
       "    <tr>\n",
       "      <th>0</th>\n",
       "      <td>8</td>\n",
       "      <td>1</td>\n",
       "      <td>3</td>\n",
       "      <td>21</td>\n",
       "      <td>24000</td>\n",
       "    </tr>\n",
       "    <tr>\n",
       "      <th>1</th>\n",
       "      <td>5</td>\n",
       "      <td>1</td>\n",
       "      <td>7</td>\n",
       "      <td>40</td>\n",
       "      <td>35000</td>\n",
       "    </tr>\n",
       "    <tr>\n",
       "      <th>2</th>\n",
       "      <td>6</td>\n",
       "      <td>1</td>\n",
       "      <td>4</td>\n",
       "      <td>41</td>\n",
       "      <td>24000</td>\n",
       "    </tr>\n",
       "    <tr>\n",
       "      <th>3</th>\n",
       "      <td>2</td>\n",
       "      <td>1</td>\n",
       "      <td>1</td>\n",
       "      <td>36</td>\n",
       "      <td>2000</td>\n",
       "    </tr>\n",
       "    <tr>\n",
       "      <th>4</th>\n",
       "      <td>7</td>\n",
       "      <td>2</td>\n",
       "      <td>8</td>\n",
       "      <td>27</td>\n",
       "      <td>112000</td>\n",
       "    </tr>\n",
       "  </tbody>\n",
       "</table>\n",
       "</div>"
      ],
      "text/plain": [
       "   proj_cnt  education_lvl  employee_grade  employee_age  employee_salary\n",
       "0         8              1               3            21            24000\n",
       "1         5              1               7            40            35000\n",
       "2         6              1               4            41            24000\n",
       "3         2              1               1            36             2000\n",
       "4         7              2               8            27           112000"
      ]
     },
     "execution_count": 37,
     "metadata": {},
     "output_type": "execute_result"
    }
   ],
   "source": [
    "d = _get_test_sample()\n",
    "d.head()"
   ]
  },
  {
   "cell_type": "markdown",
   "metadata": {},
   "source": [
    "## Обучаем модель, используя все переменные"
   ]
  },
  {
   "cell_type": "code",
   "execution_count": 39,
   "metadata": {},
   "outputs": [],
   "source": [
    "def _get_model(vl):\n",
    "    X = vl\n",
    "    y = d['employee_salary']\n",
    "    reg = LinearRegression().fit(X, y)\n",
    "    \n",
    "    print('Weights: {}'.format(reg.coef_))\n",
    "    print('Bias: {}'.format(reg.intercept_))\n",
    "    \n",
    "    pred_values = reg.predict(vl)\n",
    "    print('Error: {}'.format(mean_absolute_error(pred_values, y)))\n",
    "    print('Mean_value:', d.employee_salary.mean())"
   ]
  },
  {
   "cell_type": "code",
   "execution_count": 40,
   "metadata": {},
   "outputs": [
    {
     "name": "stdout",
     "output_type": "stream",
     "text": [
      "Weights: [10283.42050367 30774.68569859  8033.69502303   -37.36172516]\n",
      "Bias: -97519.90782276602\n",
      "Error: 14661.309018547438\n",
      "Mean_value: 50520.0\n"
     ]
    }
   ],
   "source": [
    "_get_model(d[['proj_cnt', 'education_lvl', 'employee_grade', 'employee_age']])"
   ]
  },
  {
   "cell_type": "markdown",
   "metadata": {},
   "source": [
    "## Сокращаем количество используемых переменных"
   ]
  },
  {
   "cell_type": "code",
   "execution_count": 41,
   "metadata": {},
   "outputs": [
    {
     "name": "stdout",
     "output_type": "stream",
     "text": [
      "Weights: [10288.30117598 30739.04401923  8023.01217857]\n",
      "Bias: -98682.52729453589\n",
      "Error: 14684.550333763313\n",
      "Mean_value: 50520.0\n"
     ]
    }
   ],
   "source": [
    "_get_model(d[['proj_cnt', 'education_lvl', 'employee_grade']])"
   ]
  },
  {
   "cell_type": "markdown",
   "metadata": {},
   "source": [
    "## Добавляем признак опыт"
   ]
  },
  {
   "cell_type": "code",
   "execution_count": 42,
   "metadata": {},
   "outputs": [
    {
     "data": {
      "text/html": [
       "<div>\n",
       "<style scoped>\n",
       "    .dataframe tbody tr th:only-of-type {\n",
       "        vertical-align: middle;\n",
       "    }\n",
       "\n",
       "    .dataframe tbody tr th {\n",
       "        vertical-align: top;\n",
       "    }\n",
       "\n",
       "    .dataframe thead th {\n",
       "        text-align: right;\n",
       "    }\n",
       "</style>\n",
       "<table border=\"1\" class=\"dataframe\">\n",
       "  <thead>\n",
       "    <tr style=\"text-align: right;\">\n",
       "      <th></th>\n",
       "      <th>proj_cnt</th>\n",
       "      <th>education_lvl</th>\n",
       "      <th>employee_grade</th>\n",
       "      <th>employee_age</th>\n",
       "      <th>employee_salary</th>\n",
       "      <th>experience</th>\n",
       "    </tr>\n",
       "  </thead>\n",
       "  <tbody>\n",
       "    <tr>\n",
       "      <th>0</th>\n",
       "      <td>8</td>\n",
       "      <td>1</td>\n",
       "      <td>3</td>\n",
       "      <td>21</td>\n",
       "      <td>24000</td>\n",
       "      <td>24</td>\n",
       "    </tr>\n",
       "    <tr>\n",
       "      <th>1</th>\n",
       "      <td>5</td>\n",
       "      <td>1</td>\n",
       "      <td>7</td>\n",
       "      <td>40</td>\n",
       "      <td>35000</td>\n",
       "      <td>35</td>\n",
       "    </tr>\n",
       "    <tr>\n",
       "      <th>2</th>\n",
       "      <td>6</td>\n",
       "      <td>1</td>\n",
       "      <td>4</td>\n",
       "      <td>41</td>\n",
       "      <td>24000</td>\n",
       "      <td>24</td>\n",
       "    </tr>\n",
       "    <tr>\n",
       "      <th>3</th>\n",
       "      <td>2</td>\n",
       "      <td>1</td>\n",
       "      <td>1</td>\n",
       "      <td>36</td>\n",
       "      <td>2000</td>\n",
       "      <td>2</td>\n",
       "    </tr>\n",
       "    <tr>\n",
       "      <th>4</th>\n",
       "      <td>7</td>\n",
       "      <td>2</td>\n",
       "      <td>8</td>\n",
       "      <td>27</td>\n",
       "      <td>112000</td>\n",
       "      <td>112</td>\n",
       "    </tr>\n",
       "  </tbody>\n",
       "</table>\n",
       "</div>"
      ],
      "text/plain": [
       "   proj_cnt  education_lvl  employee_grade  employee_age  employee_salary  \\\n",
       "0         8              1               3            21            24000   \n",
       "1         5              1               7            40            35000   \n",
       "2         6              1               4            41            24000   \n",
       "3         2              1               1            36             2000   \n",
       "4         7              2               8            27           112000   \n",
       "\n",
       "   experience  \n",
       "0          24  \n",
       "1          35  \n",
       "2          24  \n",
       "3           2  \n",
       "4         112  "
      ]
     },
     "execution_count": 42,
     "metadata": {},
     "output_type": "execute_result"
    }
   ],
   "source": [
    "d['experience'] = d.proj_cnt * d.education_lvl * d.employee_grade\n",
    "d.head()"
   ]
  },
  {
   "cell_type": "code",
   "execution_count": 44,
   "metadata": {},
   "outputs": [
    {
     "name": "stdout",
     "output_type": "stream",
     "text": [
      "Weights: [1000.]\n",
      "Bias: 0.0\n",
      "Error: 0.0\n",
      "Mean_value: 50520.0\n"
     ]
    }
   ],
   "source": [
    "_get_model(d[['experience']])"
   ]
  }
 ],
 "metadata": {
  "kernelspec": {
   "display_name": "Python 3",
   "language": "python",
   "name": "python3"
  },
  "language_info": {
   "codemirror_mode": {
    "name": "ipython",
    "version": 3
   },
   "file_extension": ".py",
   "mimetype": "text/x-python",
   "name": "python",
   "nbconvert_exporter": "python",
   "pygments_lexer": "ipython3",
   "version": "3.7.3"
  }
 },
 "nbformat": 4,
 "nbformat_minor": 2
}
