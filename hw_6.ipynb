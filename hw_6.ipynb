{
 "cells": [
  {
   "cell_type": "markdown",
   "metadata": {},
   "source": [
    "# Домашнее задание к лекции \"Регулярные выражения\"\n",
    "Для зачета необходимо выполнить 4 задания.  \n",
    "Для зачета с отличием – все."
   ]
  },
  {
   "cell_type": "markdown",
   "metadata": {},
   "source": [
    "## Задание 1"
   ]
  },
  {
   "cell_type": "markdown",
   "metadata": {},
   "source": [
    "Напишите функцию, которая принимает на вход строку и проверяет является ли она валидным транспортным номером. Если да, то функция должна возвращать отдельно номер и регион."
   ]
  },
  {
   "cell_type": "code",
   "execution_count": null,
   "metadata": {},
   "outputs": [],
   "source": [
    "import re"
   ]
  },
  {
   "cell_type": "code",
   "execution_count": 109,
   "metadata": {},
   "outputs": [],
   "source": [
    "def _check_num(num):\n",
    "    if len(re.sub('\\D{1}\\d{3}\\D{2}\\d{2,3}', '', num)) == 0:\n",
    "        m = re.findall('\\d{2,3}', num)\n",
    "        print('Status: valid; number: {}; region: {}'.format(m[0], m[1]))\n",
    "    else:\n",
    "        print('Status: invalid')"
   ]
  },
  {
   "cell_type": "code",
   "execution_count": 110,
   "metadata": {},
   "outputs": [
    {
     "name": "stdout",
     "output_type": "stream",
     "text": [
      "Status: valid; number: 197; region: 799\n"
     ]
    }
   ],
   "source": [
    "_check_num('C197BC799')"
   ]
  },
  {
   "cell_type": "markdown",
   "metadata": {},
   "source": [
    "## Задание 2"
   ]
  },
  {
   "cell_type": "markdown",
   "metadata": {},
   "source": [
    "Напишите функцию, которая проверяет e-mail адрес на валидность по стандарту RFC822: http://www.w3.org/Protocols/rfc822/. Для этого постарайтесь написать (в крайнем случае найти) самый полный шаблон для проверки e-mail адресов через регулярное выражение. Разберитесь и напишите примеры, какие ваш шаблон может не охватить."
   ]
  },
  {
   "cell_type": "code",
   "execution_count": 102,
   "metadata": {},
   "outputs": [],
   "source": [
    "def _check_email(email):  \n",
    "    if(re.search('^\\w+([\\.-]?\\w+)*@\\w+([\\.-]?\\w+)*(\\.\\w{2,3})+$',email)):  \n",
    "        print(\"Status: valid; Input: {}\".format(email))          \n",
    "    else:  \n",
    "        print(\"Status: invalid; Input: {}\".format(email))"
   ]
  },
  {
   "cell_type": "code",
   "execution_count": 103,
   "metadata": {},
   "outputs": [
    {
     "name": "stdout",
     "output_type": "stream",
     "text": [
      "Status: valid; Input: abc@abc.com\n",
      "Status: valid; Input: a.bc@abc.com\n",
      "Status: invalid; Input: abc.com\n",
      "Status: invalid; Input: abc@com\n",
      "Status: invalid; Input: a<>c@abc.com\n",
      "Status: invalid; Input: a\"bc@abc.com\n",
      "Status: invalid; Input: a.a..@abc.com\n",
      "Status: invalid; Input: a\bc@abc.com\n"
     ]
    }
   ],
   "source": [
    "email_list = ['abc@abc.com', 'a.bc@abc.com', 'abc.com', 'abc@com'\n",
    "           , 'a<>c@abc.com', 'a\"bc@abc.com', 'a.a..@abc.com', 'a\\bc@abc.com']\n",
    "for e in email_list:\n",
    "    _check_email(e)"
   ]
  },
  {
   "cell_type": "markdown",
   "metadata": {},
   "source": [
    "## Задание 3\n",
    "При помощи регулярных выражений напишите функцию, которая будет возвращать акроним переданного в нее текста."
   ]
  },
  {
   "cell_type": "code",
   "execution_count": 68,
   "metadata": {},
   "outputs": [],
   "source": [
    "def _get_acron(vl):\n",
    "    return ''.join(re.findall(r'\\b\\w', vl)).upper()"
   ]
  },
  {
   "cell_type": "code",
   "execution_count": 69,
   "metadata": {},
   "outputs": [
    {
     "name": "stdout",
     "output_type": "stream",
     "text": [
      "ППРВНФКБВАПВНТ\n"
     ]
    }
   ],
   "source": [
    "print(_get_acron('При помощи регулярных выражений напишите функцию, которая будет возвращать акроним переданного в нее текста.'))"
   ]
  },
  {
   "cell_type": "markdown",
   "metadata": {},
   "source": [
    "## Задание 4\n",
    "Напишите функцию, которая будет удалять все последовательные повторы слов из заданной строки."
   ]
  },
  {
   "cell_type": "code",
   "execution_count": 48,
   "metadata": {},
   "outputs": [],
   "source": [
    "def _sub_dupl(vl):\n",
    "    return re.sub(r'\\b(\\w+)( \\1\\b)+', r'\\1', vl)"
   ]
  },
  {
   "cell_type": "code",
   "execution_count": 49,
   "metadata": {},
   "outputs": [
    {
     "name": "stdout",
     "output_type": "stream",
     "text": [
      "test qwe 123 rty\n"
     ]
    }
   ],
   "source": [
    "print(_sub_dupl('test test qwe 123 123 rty rty'))"
   ]
  },
  {
   "cell_type": "markdown",
   "metadata": {},
   "source": [
    "## Задание 5\n",
    "Напишите функцию, которая будет проверять номер сотового телефона на валидность, если он валиден, то переводить его в формат:   \n",
    "+7(xxx)-xxx-xx-xx  \n",
    "Постарайтесь предусмотреть как можно больше адекватных форматов изначального ввода номера.\n",
    "Примеры правильных и неправильных форматов:\n",
    "- +1 555 555-55-55;\n",
    "- 5555555555;\n",
    "- 555555555;\n",
    "- 8(555)555-55-55;\n",
    "- +7 555 555 55 55;\n",
    "- 7(555) 555-55-55;\n",
    "- +7 555+555+55+55."
   ]
  },
  {
   "cell_type": "code",
   "execution_count": 104,
   "metadata": {},
   "outputs": [],
   "source": [
    "#оставляем только цифры и проверяем длину строки\n",
    "def _check_num(vl_num):\n",
    "    vl_num_reg = re.sub('\\D', '', vl_num)\n",
    "    if len(vl_num_reg) == 11:\n",
    "        print('Status: valid; Input: {}; Output:+7({})-{}-{}-{}'.format(vl_num, vl_num_reg[1:4], vl_num_reg[4:7], vl_num_reg[7:9], vl_num_reg[9:11]))\n",
    "    if len(vl_num_reg) == 10:\n",
    "        print('Status: valid; Input: {}; Output:+7({})-{}-{}-{}'.format(vl_num, vl_num_reg[0:3], vl_num_reg[3:6], vl_num_reg[6:8], vl_num_reg[8:10]))\n",
    "    if len(vl_num_reg) not in range(10, 12):\n",
    "        print('Status: invalid; Input: {}; Output: none'.format(vl_num))"
   ]
  },
  {
   "cell_type": "code",
   "execution_count": 105,
   "metadata": {},
   "outputs": [
    {
     "name": "stdout",
     "output_type": "stream",
     "text": [
      "Status: valid; Input: +1 555 555-55-55; Output:+7(555)-555-55-55\n",
      "Status: valid; Input: 5555555555; Output:+7(555)-555-55-55\n",
      "Status: invalid; Input: 555555555; Output: none\n",
      "Status: valid; Input: 8(555)555-55-55; Output:+7(555)-555-55-55\n",
      "Status: valid; Input: +7 555 555 55 55; Output:+7(555)-555-55-55\n",
      "Status: valid; Input: 7(555) 555-55-55; Output:+7(555)-555-55-55\n",
      "Status: valid; Input: +7 555+555+55+55; Output:+7(555)-555-55-55\n"
     ]
    }
   ],
   "source": [
    "mob_list = ['+1 555 555-55-55', '5555555555', '555555555', '8(555)555-55-55', '+7 555 555 55 55', '7(555) 555-55-55', '+7 555+555+55+55']\n",
    "\n",
    "for m in mob_list:\n",
    "    _check_num(m)"
   ]
  },
  {
   "cell_type": "code",
   "execution_count": null,
   "metadata": {},
   "outputs": [],
   "source": []
  }
 ],
 "metadata": {
  "kernelspec": {
   "display_name": "Python 3",
   "language": "python",
   "name": "python3"
  },
  "language_info": {
   "codemirror_mode": {
    "name": "ipython",
    "version": 3
   },
   "file_extension": ".py",
   "mimetype": "text/x-python",
   "name": "python",
   "nbconvert_exporter": "python",
   "pygments_lexer": "ipython3",
   "version": "3.7.3"
  }
 },
 "nbformat": 4,
 "nbformat_minor": 2
}
