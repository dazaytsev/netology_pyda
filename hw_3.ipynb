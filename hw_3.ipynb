{
 "cells": [
  {
   "cell_type": "markdown",
   "metadata": {},
   "source": [
    "Задание 1\n",
    "Дана статистика рекламных каналов по объемам продаж. Напишите скрипт, который возвращает название канала с максимальным объемом.\n",
    "Т. е. в данном примере скрипт должен возвращать \"yandex\"."
   ]
  },
  {
   "cell_type": "code",
   "execution_count": 112,
   "metadata": {},
   "outputs": [
    {
     "name": "stdout",
     "output_type": "stream",
     "text": [
      "Канал с максимальным объемом продаж: yandex\n"
     ]
    }
   ],
   "source": [
    "stats = {\"facebook\": 55, \"yandex\": 120, \"vk\": 115, \"google\": 99, \"email\": 42, \"ok\": 98, }\n",
    "result = \"Канал с максимальным объемом продаж: {}\"\n",
    "\n",
    "#Фильтруем словарь, альтернатива - сортировка по убыванию\n",
    "print(result.format(list(filter(lambda x: x[1] == max(stats.values()), stats.items()))[0][0]))"
   ]
  },
  {
   "cell_type": "markdown",
   "metadata": {},
   "source": [
    "Задание 2\n",
    "Дан список описаний товаров descriptions.\n",
    "Есть подозрение, что некоторые описания содержат много дубликатов одних и тех же слов. Т. е. могут быть переоптимизированными. Для каждого описания товара выведите на экран разницу между количеством уникальных слов и общим количеством слов в этом описании."
   ]
  },
  {
   "cell_type": "code",
   "execution_count": 113,
   "metadata": {},
   "outputs": [
    {
     "name": "stdout",
     "output_type": "stream",
     "text": [
      "Статистика описания №1: общее количество слов: 25, из них уникальных: 20, разница: 5\n",
      "Статистика описания №2: общее количество слов: 14, из них уникальных: 13, разница: 1\n",
      "Статистика описания №3: общее количество слов: 13, из них уникальных: 12, разница: 1\n"
     ]
    }
   ],
   "source": [
    "descriptions = [[\"браслет\", \"xiaomi\", \"mi\", \"band\", \"2.\", \"умный\", \"браслет\", \"xiaomi\", \"mi\", \"лидер\", \"в\", \"линейке\", \"xiaomi.\", \"фитнес\", \"браслет\", \"для\", \"android\", \"4.4,\", \"ios\", \"7,\", \"экран\", \"oled.\", \"лучший\", \"выбор\", \"xiaomi\"],\n",
    "                [\"браслет\", \"huawei\", \"honor\", \"band\", \"3.\", \"фитнес\", \"браслет\", \"влагозащищенный\", \"сенсорный\", \"экран\", \"android,\", \"ios\", \"мониторинг\", \"сна\"],\n",
    "                [\"браслет\", \"samsung\", \"gear\", \"fit2\", \"pro.\", \"влагозащищенный\", \"сенсорный\", \"amoled-экран\", \"мониторинг\", \"сна,\", \"калорий,\", \"новинка\", \"samsung\"],]\n",
    "\n",
    "result = \"Статистика описания №{}: общее количество слов: {}, из них уникальных: {}, разница: {}\"\n",
    "\n",
    "for d in range(0, len(descriptions)):\n",
    "    words_cnt = int(len(descriptions[d])) # общее количество слов\n",
    "    words_uniq_cnt = int(len(set(descriptions[d]))) # количество уникальных слов\n",
    "    print(result.format(d + 1, words_cnt, words_uniq_cnt, words_cnt - words_uniq_cnt))"
   ]
  },
  {
   "cell_type": "markdown",
   "metadata": {},
   "source": [
    "Задание 3\n",
    "В примере поиска с помощью кортежей мы использовали 3 столбца. Напишите функцию, которая формирует словарь для поиска по n столбцам."
   ]
  },
  {
   "cell_type": "code",
   "execution_count": 114,
   "metadata": {},
   "outputs": [
    {
     "name": "stdout",
     "output_type": "stream",
     "text": [
      "27610\n",
      "27610\n",
      "Wall time: 196 ms\n"
     ]
    }
   ],
   "source": [
    "%%time\n",
    "#Функция с одним аргуементом - длина ключа (количество столбцов из файла). Возвращает словарь\n",
    "def set_key_len(key_len):\n",
    "    dict_x = {}\n",
    "    with open('stats.csv') as f:\n",
    "        for line in f:\n",
    "            line = line.strip().split(',')\n",
    "            dict_x[tuple(line[:key_len])] = line[3]\n",
    "    return dict_x\n",
    "\n",
    "#24,19415,2,20765\n",
    "\n",
    "#проверка ключа в 2 столбца\n",
    "stats_dict = set_key_len(2)\n",
    "line_to_find = ('24', '19415')\n",
    "print(stats_dict[line_to_find])\n",
    "\n",
    "#проверка ключа 3 столбца\n",
    "stats_dict = set_key_len(3)\n",
    "line_to_find = ('24', '19415', '2')\n",
    "print(stats_dict[line_to_find])"
   ]
  },
  {
   "cell_type": "code",
   "execution_count": null,
   "metadata": {},
   "outputs": [],
   "source": []
  }
 ],
 "metadata": {
  "kernelspec": {
   "display_name": "Python 3",
   "language": "python",
   "name": "python3"
  },
  "language_info": {
   "codemirror_mode": {
    "name": "ipython",
    "version": 3
   },
   "file_extension": ".py",
   "mimetype": "text/x-python",
   "name": "python",
   "nbconvert_exporter": "python",
   "pygments_lexer": "ipython3",
   "version": "3.7.3"
  }
 },
 "nbformat": 4,
 "nbformat_minor": 2
}
