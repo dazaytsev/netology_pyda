{
 "cells": [
  {
   "cell_type": "markdown",
   "metadata": {},
   "source": [
    "**Задание 1**. Даны 2 строки: *long_phrase* и *short_phrase*. \n",
    "Напишите код, который проверяет действительно ли длинная фраза *long_phrase* длиннее короткой *short_phrase*. И выводит *True* или *False* в зависимости от результата сравнения."
   ]
  },
  {
   "cell_type": "code",
   "execution_count": 59,
   "metadata": {},
   "outputs": [],
   "source": [
    "long_phrase = 'Насколько проще было бы писать программы, если бы не заказчики'\n",
    "short_phrase = '640Кб должно хватить для любых задач. Билл Гейтс (по легенде)'"
   ]
  },
  {
   "cell_type": "code",
   "execution_count": 60,
   "metadata": {},
   "outputs": [
    {
     "data": {
      "text/plain": [
       "True"
      ]
     },
     "execution_count": 60,
     "metadata": {},
     "output_type": "execute_result"
    }
   ],
   "source": [
    "len(long_phrase) > len(short_phrase)"
   ]
  },
  {
   "cell_type": "markdown",
   "metadata": {},
   "source": [
    "**Задание 2**. Дано значение объема файла в байтах. Напишите перевод этого значения в мегабайты в формате: \"*Объем файла равен 213.68Mb*\""
   ]
  },
  {
   "cell_type": "code",
   "execution_count": 61,
   "metadata": {},
   "outputs": [
    {
     "name": "stdout",
     "output_type": "stream",
     "text": [
      "Объем файла равен 213.68Mb\n"
     ]
    }
   ],
   "source": [
    "size_b = 213680000\n",
    "result = '''Объем файла равен {}Mb'''\n",
    "print(result.format(size_b/1000/1000))"
   ]
  },
  {
   "cell_type": "markdown",
   "metadata": {},
   "source": [
    "**Задание 3**. Разработать приложение для определения знака зодиака по дате рождения. Пример:\n",
    "\n",
    "Введите месяц: март\n",
    "\n",
    "Введите число: 6\n",
    "\n",
    "Вывод:\n",
    "Рыбы"
   ]
  },
  {
   "cell_type": "code",
   "execution_count": 62,
   "metadata": {},
   "outputs": [
    {
     "name": "stdout",
     "output_type": "stream",
     "text": [
      "Введите месяц: март\n",
      "Введите число: 6\n",
      "Вывод: Рыбы\n"
     ]
    }
   ],
   "source": [
    "month_nm = input('Введите месяц: ')\n",
    "day_num = int(input('Введите число: '))\n",
    "result = 'Вывод: {}'\n",
    "if (month_nm == 'январь' and day_num >= 20) or (month_nm == 'февраль' and day_num <= 19):\n",
    "    print(result.format('Водолей'))\n",
    "elif (month_nm == 'февраль' and day_num >= 20) or (month_nm == 'март' and day_num <= 20):\n",
    "    print(result.format('Рыбы'))\n",
    "elif (month_nm == 'март' and day_num >= 21) or (month_nm == 'апрель' and day_num <= 20):\n",
    "    print(result.format('Овен'))\n",
    "elif (month_nm == 'апрель' and day_num >= 21) or (month_nm == 'май' and day_num <= 21):\n",
    "    print(result.format('Телец'))\n",
    "elif (month_nm == 'май' and day_num >= 22) or (month_nm == 'июнь' and day_num <= 21):\n",
    "    print(result.format('Близнецы'))\n",
    "elif (month_nm == 'июнь' and day_num >= 22) or (month_nm == 'июль' and day_num <= 22):\n",
    "    print(result.format('Рак'))\n",
    "elif (month_nm == 'июль' and day_num >= 23) or (month_nm == 'август' and day_num <= 23):\n",
    "    print(result.format('Лев'))\n",
    "elif (month_nm == 'август' and day_num >= 24) or (month_nm == 'сентябрь' and day_num <= 23):\n",
    "    print(result.format('Дева'))\n",
    "elif (month_nm == 'сентябрь' and day_num >= 23) or (month_nm == 'октябрь' and day_num <= 22):\n",
    "    print(result.format('Весы'))\n",
    "elif (month_nm == 'октябрь' and day_num >= 23) or (month_nm == 'ноябрь' and day_num <= 22):\n",
    "    print(result.format('Скорпион'))\n",
    "elif (month_nm == 'ноябрь' and day_num >= 23) or (month_nm == 'декабрь' and day_num <= 21):\n",
    "    print(result.format('Стрелец'))\n",
    "elif (month_nm == 'декабрь' and day_num >= 22) or (month_nm == 'январь' and day_num <= 19):\n",
    "    print(result.format('Козерог'))"
   ]
  },
  {
   "cell_type": "markdown",
   "metadata": {},
   "source": [
    "**Задание 4**. Нужно разработать приложение для финансового планирования.\n",
    "Приложение учитывает сколько уходит на ипотеку, \"на жизнь\" и сколько нужно отложить на пенсию.\n",
    "Пользователь вводит:\n",
    "- заработанную плату в месяц.\n",
    "- сколько процентов от ЗП уходит на ипотеку.\n",
    "- сколько процентов от ЗП уходит \"на жизнь\".\n",
    "- сколько раз приходит премия в год.\n",
    "\n",
    "Остальная часть заработанной платы откладывается на пенсию.\n",
    "\n",
    "Также пользователю приходит премия в размере зарплаты, от которой половина уходит на отпуск, а вторая половина откладывается.\n",
    "\n",
    "Программа должна учитывать сколько премий было в год.\n",
    "\n",
    "Нужно вывести сколько денег тратит пользователь на ипотеку и сколько он накопит за год.\n",
    "\n",
    "Пример:\n",
    "\n",
    "Введите заработанную плату в месяц: 100000\n",
    "\n",
    "Введите сколько процентов уходит на ипотеку: 30\n",
    "\n",
    "Введите сколько процентов уходит на жизнь: 50\n",
    "\n",
    "Введите количество премий за год: 2\n",
    "\n",
    "Вывод:\n",
    "На ипотеку было потрачено: 360000 рублей\n",
    "Было накоплено: 340000 рублей"
   ]
  },
  {
   "cell_type": "code",
   "execution_count": 64,
   "metadata": {},
   "outputs": [
    {
     "name": "stdout",
     "output_type": "stream",
     "text": [
      "Введите заработную плату в месяц: 100000\n",
      "Введите сколько процентов уходит на ипотеку: 30\n",
      "Введите сколько процентов уходит на жизнь: 50\n",
      "Введите количество премий за год: 2\n",
      "Вывод:\n",
      "На ипотеку было потрачено: 360000 рублей\n",
      "Было накоплено: 340000 рублей\n"
     ]
    }
   ],
   "source": [
    "salary = int(input('Введите заработную плату в месяц: '))\n",
    "m_prc = int(input('Введите сколько процентов уходит на ипотеку: '))\n",
    "l_prc = int(input('Введите сколько процентов уходит на жизнь: '))\n",
    "prem_cnt = int(input('Введите количество премий за год: '))\n",
    "result_1 = 'На ипотеку было потрачено: {} рублей'\n",
    "result_2 = 'Было накоплено: {} рублей'\n",
    "\n",
    "m_sum = int(salary * 12 * (m_prc/100))\n",
    "dep_sum = int(salary * 12 * ((100 - m_prc - l_prc)/ 100) + (prem_cnt * salary / 2))\n",
    "\n",
    "print('Вывод:')\n",
    "print(result_1.format(m_sum))\n",
    "print(result_2.format(dep_sum))"
   ]
  },
  {
   "cell_type": "markdown",
   "metadata": {},
   "source": [
    "Задание 5 Начинающий произносит число \"1\", и каждый следующий игрок прибавляет к предыдущему значению единицу. Когда число делится на три оно заменяется на fizz, если число делится на пять, то произносится buzz. Числа, делящиеся на три и пять одновременно заменяются на fizz buzz. Сделавший ошибку игрок исключается из игры."
   ]
  },
  {
   "cell_type": "code",
   "execution_count": 48,
   "metadata": {},
   "outputs": [
    {
     "name": "stdout",
     "output_type": "stream",
     "text": [
      "Введите число ходов 15\n",
      "Ход: 1. Ответ: 1\n",
      "Ход: 2. Ответ: 2\n",
      "Ход: 3. Ответ: fizz\n",
      "Ход: 4. Ответ: 4\n",
      "Ход: 5. Ответ: buzz\n",
      "Ход: 6. Ответ: fizz\n",
      "Ход: 7. Ответ: 7\n",
      "Ход: 8. Ответ: 8\n",
      "Ход: 9. Ответ: fizz\n",
      "Ход: 10. Ответ: buzz\n",
      "Ход: 11. Ответ: 11\n",
      "Ход: 12. Ответ: fizz\n",
      "Ход: 13. Ответ: 13\n",
      "Ход: 14. Ответ: 14\n",
      "Ход: 15. Ответ: fizz buzz\n"
     ]
    }
   ],
   "source": [
    "round_cnt = int(input('Введите число ходов '))\n",
    "msg_text = 'Ход: {}. Ответ: {}'\n",
    "a = range(1, round_cnt + 1)\n",
    "for b in a:\n",
    "    if b%3 == 0 and b%5 == 0:\n",
    "        print(msg_text.format(b, 'fizz buzz'))\n",
    "    elif b%3 == 0:\n",
    "        print(msg_text.format(b, 'fizz'))\n",
    "    elif b%5 == 0:\n",
    "        print(msg_text.format(b, 'buzz'))\n",
    "    else:\n",
    "        print(msg_text.format(b, b))"
   ]
  },
  {
   "cell_type": "markdown",
   "metadata": {},
   "source": [
    "Задание 6 Датчик принимает сигнал, состоящий из 0 и 1. Известно, что сигнал имеет периодичность, не превышающей натурального числа n. Напишите код, который вычисляет периодичность сигнала. Считайте, что 3 < n < 1000, а общая длина сигнала значительно превышает n.\n",
    "\n",
    "Пример сигнала с периодичностью 4 (повторяющийся элемент 1011):\n",
    "1011101110111011101110111011101110111011"
   ]
  },
  {
   "cell_type": "code",
   "execution_count": 65,
   "metadata": {},
   "outputs": [
    {
     "name": "stdout",
     "output_type": "stream",
     "text": [
      "Введите сигнал 1011101110111011101110111011101110111011\n",
      "Сигнал с периодичностью 4 (повторяющийся элемент 1011)\n"
     ]
    }
   ],
   "source": [
    "s = input('Введите сигнал ')\n",
    "#s = '101100101011011001010110110010101101100101011011001010110110010101'\n",
    "#s = '1011101110111011101110111011101110111011'\n",
    "x = 4\n",
    "\n",
    "while x < 1000:\n",
    "  str_r = s[:x]\n",
    "  str_r1 = s.replace(str_r, '')\n",
    "  if len(str_r1) == 0:\n",
    "      msg = 'Сигнал с периодичностью {} (повторяющийся элемент {})' \n",
    "      print(msg.format(len(str_r), str_r))\n",
    "      break\n",
    "  else:\n",
    "      x = x + 1"
   ]
  },
  {
   "cell_type": "markdown",
   "metadata": {},
   "source": [
    "Задание 7\n",
    "Дано слово из латинских букв. Напишите скрипт, который выводит на экран букву из середины слова (если число букв нечетное). Если букв четное число, то на экран выводятся две буквы из середины."
   ]
  },
  {
   "cell_type": "code",
   "execution_count": 52,
   "metadata": {},
   "outputs": [
    {
     "name": "stdout",
     "output_type": "stream",
     "text": [
      "Введите слово: testing\n",
      "t\n"
     ]
    }
   ],
   "source": [
    "str = input('Введите слово: ')\n",
    "if len(str) % 2 == 0:\n",
    "    print(str[int(len(str)/2-1)] + str[int(len(str)/2+1)])\n",
    "else:\n",
    "    print(str[int(len(str)/2)])"
   ]
  },
  {
   "cell_type": "code",
   "execution_count": null,
   "metadata": {},
   "outputs": [],
   "source": []
  }
 ],
 "metadata": {
  "kernelspec": {
   "display_name": "Python 3",
   "language": "python",
   "name": "python3"
  },
  "language_info": {
   "codemirror_mode": {
    "name": "ipython",
    "version": 3
   },
   "file_extension": ".py",
   "mimetype": "text/x-python",
   "name": "python",
   "nbconvert_exporter": "python",
   "pygments_lexer": "ipython3",
   "version": "3.7.3"
  }
 },
 "nbformat": 4,
 "nbformat_minor": 2
}
